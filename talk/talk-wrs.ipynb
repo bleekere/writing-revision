{
 "cells": [
  {
   "cell_type": "markdown",
   "metadata": {
    "slideshow": {
     "slide_type": "slide"
    }
   },
   "source": [
    "<div align=\"center\"><h1>Modeling the Messy Complexity of Texts</h1>\n",
    "<h3>_Computational approaches to in-text variation_</h3>\n",
    "<br/>\n",
    "<h4>Elli Bleeker, Bram Buitendijk, Ronald Haentjens Dekker\n",
    "    <br/>R&amp;D group -  Royal Dutch Academy of Arts and Sciences</h4>\n",
    "    <h6>Symposium \"Writing and Revision Stages\"\n",
    "    <br/>June 6, 2019 - University of Lisbon</h6>\n",
    "</div>"
   ]
  },
  {
   "cell_type": "markdown",
   "metadata": {
    "slideshow": {
     "slide_type": "notes"
    }
   },
   "source": [
    "**NOTE** \n",
    "\n",
    "For my presentation, I made use of the RISE extension of Jupyter Notebook, that allows you to create a reveal.js-based presentation. You can download Jupyter notebook [here](https://jupyter.org/install) and an introduction of RISE [here](https://rise.readthedocs.io/en/stable/index.html). \n",
    "\n",
    "\n",
    "You can download my entire talk [here](https://github.com/bleekere/writing-revision). After installing RISE in the same folder as you have downloaded this presentation, you can see it as a slideshow.\n",
    "\n",
    "The following is a downloaded version of my talk, that reads as one long text. The slightly weird formatting is because of the conversions of the RISE-slides into text."
   ]
  },
  {
   "cell_type": "markdown",
   "metadata": {
    "slideshow": {
     "slide_type": "notes"
    }
   },
   "source": [
    "It's an interesting place to work, the Research and Development group. We have no traditional editing projects, but we have a number of research projects in different stages of development. This gives us a certain freedom to experiment and go off the beaten track. One of the main projects is a new data model for text, and that's what I'm going to talk about today.\n",
    "\n",
    "Because it's a research project under active development, this will not be a simple \"me and my project\"-presentation. I will not be trying to \"sell\" our data model to you either. Instead, I will take you along, off this beaten track and share with you some of our considerations and findings.\n",
    "\n",
    "Because my time is very limited here, I will not be able to talk about the entire data model. Instead I will concentrate on one feature that is most interesting for this symposium: the ability to encode in-text variation in a really precise manner. Before I describe how we do this, I will tell you a bit about why it matters in the first place: why not use the prevailing data model of XML, with some additional workarounds?"
   ]
  },
  {
   "cell_type": "markdown",
   "metadata": {
    "slideshow": {
     "slide_type": "slide"
    }
   },
   "source": [
    "# Outline\n",
    "\n",
    "**Background**  \n",
    "\n",
    "Data models for texts\n",
    "\n",
    "**Encoding in-text variation** \n",
    "- examples\n",
    "- philological definition\n",
    "- informational definition\n",
    "- existing approaches    \n",
    "   \n",
    "**The TAG model**  \n",
    "    \n",
    "- data model\n",
    "- syntax  \n",
    "\n",
    "**Modeling in-text variation in TAG**  \n",
    "\n",
    "- linearity and non-linearity\n",
    "- branches\n",
    "\n",
    "**Conclusion**   \n"
   ]
  },
  {
   "cell_type": "markdown",
   "metadata": {
    "slideshow": {
     "slide_type": "slide"
    }
   },
   "source": [
    "<div align=\"center\">_\"The Holy Grail of computer science is to capture the messy complexity of the natural world and express it algorithmically\"_\n",
    "<br/><br/>(Teresa Marrin Nakra, 2006)\n",
    "    </div>"
   ]
  },
  {
   "cell_type": "markdown",
   "metadata": {
    "slideshow": {
     "slide_type": "notes"
    }
   },
   "source": [
    "I like this statement because, although I am not a full-fledged computer scientist, I think it has a lot of truth in it. For decades now, the text editing community is on a queeste to capture the complexity of textual objects. Now why is it a holy grail? \n",
    "\n",
    "The natural world is ambiguous and complex; its products open to many different interpretations.\n",
    "\n",
    "At the same time, the computer is rather dumb. Simplistic, if you will."
   ]
  },
  {
   "cell_type": "markdown",
   "metadata": {
    "slideshow": {
     "slide_type": "subslide"
    }
   },
   "source": [
    "<div align=\"center\">_\"The first step toward understanding computers is an appreciation of their simplicity, not their complexity.\"_\n",
    "<br/>\n",
    "<br/>\n",
    "William Kent, 1978</div>\n"
   ]
  },
  {
   "cell_type": "markdown",
   "metadata": {
    "slideshow": {
     "slide_type": "notes"
    }
   },
   "source": [
    "The challenges are manifold, but what's important here is that the kinds of texts we prefer are indeed extremely messy and _we like that_. Preferably, we do not want them to become neatly structured documents. That would eliminate one of their main feats!"
   ]
  },
  {
   "cell_type": "markdown",
   "metadata": {
    "slideshow": {
     "slide_type": "subslide"
    }
   },
   "source": [
    "<div align=\"center\">How can we capture the messy complexity of literary texts? \n",
    "</div>"
   ]
  },
  {
   "cell_type": "markdown",
   "metadata": {
    "slideshow": {
     "slide_type": "fragment"
    }
   },
   "source": [
    "<div align=\"center\">In what ways can we express our textual knowledge algorithmically?</div>"
   ]
  },
  {
   "cell_type": "markdown",
   "metadata": {
    "slideshow": {
     "slide_type": "slide"
    }
   },
   "source": [
    "# Data models and text encoding"
   ]
  },
  {
   "cell_type": "markdown",
   "metadata": {
    "slideshow": {
     "slide_type": "notes"
    }
   },
   "source": [
    "The datamodels we use influence our text encoding and defines what textual features we can record. The ways in which we algorithmically express information about text also define how that information can be parsed, queried, and visualised.\n",
    "\n",
    "We have at our disposition a number of different data models to express and represent text. I'll give a brief outline of the main ones. Keep in mind the difference between a data model and a syntax! A syntax is a serialisation of a data model, e.g., XML is a serialisation (= a linearly ordered expression); the underlying data model is an acyclic directed ordered graph (known as the OHCO model)."
   ]
  },
  {
   "cell_type": "markdown",
   "metadata": {
    "slideshow": {
     "slide_type": "notes"
    }
   },
   "source": [
    "In other words, this XML sentence  "
   ]
  },
  {
   "cell_type": "markdown",
   "metadata": {
    "slideshow": {
     "slide_type": "slide"
    }
   },
   "source": [
    "```<root><s>The sun is not yellow</s></root>```"
   ]
  },
  {
   "cell_type": "markdown",
   "metadata": {
    "slideshow": {
     "slide_type": "notes"
    }
   },
   "source": [
    "is a serialisation of this ordered directed acyclic graph (a tree): "
   ]
  },
  {
   "cell_type": "markdown",
   "metadata": {
    "slideshow": {
     "slide_type": "subslide"
    }
   },
   "source": [
    "<img src=\"images/simple-tree.png\">"
   ]
  },
  {
   "cell_type": "markdown",
   "metadata": {
    "slideshow": {
     "slide_type": "notes"
    }
   },
   "source": [
    "These are the most commonly used data models for text encoding:"
   ]
  },
  {
   "cell_type": "markdown",
   "metadata": {
    "slideshow": {
     "slide_type": "slide"
    }
   },
   "source": [
    "| Data model || Serialisation ||\n",
    "|:------:||:--------------------:||\n",
    "|String || plain text (ranges) ||\n",
    "|OHCO|| SGML, XML ||\n",
    "|Key:value pairs || JSON, JS ||\n",
    "|Graph||Turtle, N-Triple, RDFa, EARMARK... ||"
   ]
  },
  {
   "cell_type": "markdown",
   "metadata": {
    "slideshow": {
     "slide_type": "notes"
    }
   },
   "source": [
    "Each of these formats has disadvantages but also their own merits. As Fabio Vitali argued a few years back, with the help of some coding and hacks you can express almost everything in every data model (though it ain't always pretty)."
   ]
  },
  {
   "cell_type": "markdown",
   "metadata": {
    "slideshow": {
     "slide_type": "slide"
    }
   },
   "source": [
    "<img src=\"images/vitali-data-formats.png\">\n",
    "\n",
    "Image by Vitali (2016)"
   ]
  },
  {
   "cell_type": "markdown",
   "metadata": {
    "slideshow": {
     "slide_type": "notes"
    }
   },
   "source": [
    "Making use of what is already there has a lot of benefits: it is more or less stable, people know and understand it, there's usually a community, tutorials and tools made to work with that format. \n",
    "\n",
    "But what you need to remember:"
   ]
  },
  {
   "cell_type": "markdown",
   "metadata": {
    "slideshow": {
     "slide_type": "slide"
    }
   },
   "source": [
    "**1. Models influence the way we think and argue about text.**"
   ]
  },
  {
   "cell_type": "markdown",
   "metadata": {
    "slideshow": {
     "slide_type": "notes"
    }
   },
   "source": [
    "It's a sneaky one: if we use certain models long enough, they can influence the way we think and argue about text. They can even - very subtly - encourage us to ignore certain features that are not represented in that particular model. "
   ]
  },
  {
   "cell_type": "markdown",
   "metadata": {
    "slideshow": {
     "slide_type": "skip"
    }
   },
   "source": [
    "<div align=\"center\">_\"TEI konzentriert sich for allen auf den Text als Werk(-Struktur), als sprachliche Äußerung und als kanonisierte, definierte oder auch variante Fassung. Der Text als intentionale Mitteilung, als semantischer Inhalt, aber auch der Text als physisches Object, als Dokument, wird nur am Rande unterstützt. Der Text als komplexes Zeichen, als semiotic Entität, spielt bei der TEI keine Rolle.\"_\n",
    "    <br/>\n",
    "<br/>\n",
    "Patrick Sahle, 2013</div>"
   ]
  },
  {
   "cell_type": "markdown",
   "metadata": {
    "slideshow": {
     "slide_type": "fragment"
    }
   },
   "source": [
    "**2. Workarounds and local \"solutions\" hinder interoperability and reusability**"
   ]
  },
  {
   "cell_type": "markdown",
   "metadata": {
    "slideshow": {
     "slide_type": "notes"
    }
   },
   "source": [
    "The more complex your texts (or what you want to do with it), the more coding, hacking and workarounds. I am not saying that modeling complex textual features in XML or RDF is impossible. It may lead to a reduced human-readability of the file (which is more important than you may think, especially when it concerns humanities scholars), but you may argue that the file is not intended to be read by humans, as long as machines understand it. However, it also hinders interoperability and delegates a lot of responsibility and complexity to the application level that processes the data.\n",
    "\n",
    "So, in summary:"
   ]
  },
  {
   "cell_type": "markdown",
   "metadata": {
    "slideshow": {
     "slide_type": "slide"
    }
   },
   "source": [
    "<div align=\"center\">A data model influences the text encoding as well as what features we (can) record.</div>"
   ]
  },
  {
   "cell_type": "markdown",
   "metadata": {
    "slideshow": {
     "slide_type": "fragment"
    }
   },
   "source": [
    "<div align=\"center\">The affordances and limitations of a textual model influence our study of text.</div>"
   ]
  },
  {
   "cell_type": "markdown",
   "metadata": {
    "slideshow": {
     "slide_type": "fragment"
    }
   },
   "source": [
    "<div align=\"center\">Understanding the strengths and limitations of a data model is crucial.</div>"
   ]
  },
  {
   "cell_type": "markdown",
   "metadata": {
    "slideshow": {
     "slide_type": "notes"
    }
   },
   "source": [
    "Now, it is well-known that the _de facto_ data model for text encoding, TEI-based XML, is significantly limited when it comes to expressing textual properties that do not fit naturally within a single-rooted hierarchy. In discussing the TEI's potential for transcribing texts, Edward Vanhoutte remarked:"
   ]
  },
  {
   "cell_type": "markdown",
   "metadata": {
    "slideshow": {
     "slide_type": "slide"
    }
   },
   "source": [
    "<div align=\"center\">_\"The real problems arise when dealing with modern manuscript material\"_\n",
    "    <br/>\n",
    "    <br/>(Edward Vanhoutte 2002)"
   ]
  },
  {
   "cell_type": "markdown",
   "metadata": {
    "slideshow": {
     "slide_type": "notes"
    }
   },
   "source": [
    "I'm sure you're all familiar with the limitation of the XML data model: it doesn't support structures that do not fit within a single hierarchy. "
   ]
  },
  {
   "cell_type": "markdown",
   "metadata": {
    "slideshow": {
     "slide_type": "notes"
    }
   },
   "source": [
    "Over the years, alternative data models for text have been proposed (like LMNL or GODDAG) that focus especially on the well-known \"overlap problem\", but there are equally complex features which do not have a natural place into existing data models either. Examples are simultaneity, discontinous text and the focus of the present talk: in-text revisions."
   ]
  },
  {
   "cell_type": "markdown",
   "metadata": {
    "slideshow": {
     "slide_type": "slide"
    }
   },
   "source": [
    "# In-text revision\n",
    "\n",
    "<img src=\"images/Selection-22v.png\">\n",
    "\n",
    "<img src=\"images/simple-transcription-nonlinearity.png\">"
   ]
  },
  {
   "cell_type": "markdown",
   "metadata": {
    "slideshow": {
     "slide_type": "subslide"
    }
   },
   "source": [
    "### Philological definition\n",
    "\n",
    "What is in-text revision?\n",
    "In essence, in-text revisions constitute a combination of linear and non-linear text."
   ]
  },
  {
   "cell_type": "markdown",
   "metadata": {
    "slideshow": {
     "slide_type": "notes"
    }
   },
   "source": [
    "A simple, straightforward text is read in linear order, from left to right and top to bottom (in Western scripts at least). Revisions mess with that linearity. "
   ]
  },
  {
   "cell_type": "markdown",
   "metadata": {
    "slideshow": {
     "slide_type": "notes"
    }
   },
   "source": [
    "In-text revisions comes in many shapes, but because of time constraints I'll focus on the elementary forms:"
   ]
  },
  {
   "cell_type": "markdown",
   "metadata": {
    "slideshow": {
     "slide_type": "subslide"
    }
   },
   "source": [
    "#### Deletion\n",
    "\n",
    "<img src=\"images/simple-del.png\">\n",
    "<img src=\"images/simple-del2.png\">"
   ]
  },
  {
   "cell_type": "markdown",
   "metadata": {
    "slideshow": {
     "slide_type": "subslide"
    }
   },
   "source": [
    "#### Addition\n",
    "\n",
    "<img src=\"images/simple-add1.png\">\n",
    "<img src=\"images/simple-add2.png\">"
   ]
  },
  {
   "cell_type": "markdown",
   "metadata": {
    "slideshow": {
     "slide_type": "subslide"
    }
   },
   "source": [
    "#### Substitution\n",
    "\n",
    "<img src=\"images/subst1.png\" width=\"600\">\n",
    "<img src=\"images/subst2.png\" width=\"600\">"
   ]
  },
  {
   "cell_type": "markdown",
   "metadata": {
    "slideshow": {
     "slide_type": "notes"
    }
   },
   "source": [
    "How can we translate this feature so that the computer understands it in the same way we do? In other words, express the mixture of linear and non-linear text?"
   ]
  },
  {
   "cell_type": "markdown",
   "metadata": {
    "slideshow": {
     "slide_type": "slide"
    }
   },
   "source": [
    "### How does non-linear text translate informationally?"
   ]
  },
  {
   "cell_type": "markdown",
   "metadata": {
    "slideshow": {
     "slide_type": "notes"
    }
   },
   "source": [
    "The complex literary texts we work with consist of three different data types:"
   ]
  },
  {
   "cell_type": "markdown",
   "metadata": {
    "slideshow": {
     "slide_type": "fragment"
    }
   },
   "source": [
    "- unordered data\n",
    "- ordered data\n",
    "- partially ordered data "
   ]
  },
  {
   "cell_type": "markdown",
   "metadata": {
    "slideshow": {
     "slide_type": "subslide"
    }
   },
   "source": [
    "### Informational definition\n",
    "\n",
    "In-text revision = partially ordered data"
   ]
  },
  {
   "cell_type": "markdown",
   "metadata": {
    "slideshow": {
     "slide_type": "subslide"
    }
   },
   "source": [
    "#### Deletion\n",
    "<img src=\"images/del1.png\" width=\"600\">"
   ]
  },
  {
   "cell_type": "markdown",
   "metadata": {
    "slideshow": {
     "slide_type": "fragment"
    }
   },
   "source": [
    "#### Substitution\n",
    "<img src=\"images/subst3.png\" width=\"600\">"
   ]
  },
  {
   "cell_type": "markdown",
   "metadata": {
    "slideshow": {
     "slide_type": "notes"
    }
   },
   "source": [
    "Prevailing data models can deal with partially ordered data only to a certain extent:"
   ]
  },
  {
   "cell_type": "markdown",
   "metadata": {
    "slideshow": {
     "slide_type": "slide"
    }
   },
   "source": [
    "- **string**: ordered; single order of characters  \n",
    "\n",
    "- **key:value pairs**: unordered; order is not informational  \n",
    "\n",
    "- **tree**: ordered; order is informational  \n",
    "\n",
    "- **graph**: it depends; e.g., GODDAG allows multiple orders of the leaf nodes"
   ]
  },
  {
   "cell_type": "markdown",
   "metadata": {
    "slideshow": {
     "slide_type": "notes"
    }
   },
   "source": [
    "What do I mean with \"order is (not) informational\"? \n",
    "\n",
    "Because XML models an ordered hierarchy, elements always have order. It is up to the application layer to distinguish where order is semantically meaningful from situations where it isn’t.\n",
    "\n",
    "In other words, TEI-XML elements that represent regularization (orig/reg), correction (sic/corr), or abbreviation (abbr/expan) are ordered: two XML documents that differ in the order of an orig/reg choice are different XML documents. "
   ]
  },
  {
   "cell_type": "markdown",
   "metadata": {
    "slideshow": {
     "slide_type": "subslide"
    }
   },
   "source": [
    "`<l> ... through shrieks of <choice> <sic> slaugter </sic> <corr> slaughter </corr> </sic> </l>`"
   ]
  },
  {
   "cell_type": "markdown",
   "metadata": {
    "slideshow": {
     "slide_type": "fragment"
    }
   },
   "source": [
    "<img align=\"center\"  src=\"images/order-xml.png\">"
   ]
  },
  {
   "cell_type": "markdown",
   "metadata": {
    "slideshow": {
     "slide_type": "subslide"
    }
   },
   "source": [
    "`<p> <subst> <del>thro</del> <add>'mid</add> </subst> </p>`\n"
   ]
  },
  {
   "cell_type": "markdown",
   "metadata": {
    "slideshow": {
     "slide_type": "fragment"
    }
   },
   "source": [
    "<img align=\"center\" src=\"images/order-subst.png\">"
   ]
  },
  {
   "cell_type": "markdown",
   "metadata": {
    "slideshow": {
     "slide_type": "notes"
    }
   },
   "source": [
    "XML doesn't know that in the first case (sic/corr) the order of the elements is irrelevant, whereas in the second case (del/add) it is informational. That difference can be ignored only at the application level, not at the level of the model."
   ]
  },
  {
   "cell_type": "markdown",
   "metadata": {
    "slideshow": {
     "slide_type": "slide"
    }
   },
   "source": [
    "## Our approach"
   ]
  },
  {
   "cell_type": "markdown",
   "metadata": {
    "slideshow": {
     "slide_type": "fragment"
    }
   },
   "source": [
    "### TAG (Text-As-Graph)\n",
    "\n",
    "**Hypergraph model for text**  "
   ]
  },
  {
   "cell_type": "markdown",
   "metadata": {
    "slideshow": {
     "slide_type": "notes"
    }
   },
   "source": [
    "Like regular graphs, a hypergraph consists of nodes and edges. But it also has _hyperedges_ that can connect more than two nodes. This means that markup can point to multiple text nodes and vice versa:"
   ]
  },
  {
   "cell_type": "markdown",
   "metadata": {
    "slideshow": {
     "slide_type": "subslide"
    }
   },
   "source": [
    "<img width=\"300\" src=\"images/hypergraph-general.png\">"
   ]
  },
  {
   "cell_type": "markdown",
   "metadata": {
    "slideshow": {
     "slide_type": "subslide"
    }
   },
   "source": [
    "<img src=\"images/Selection-22v.png\">"
   ]
  },
  {
   "cell_type": "markdown",
   "metadata": {
    "slideshow": {
     "slide_type": "subslide"
    }
   },
   "source": [
    "<img align=\"center\" src=\"images/hypergraph-clean.png\">"
   ]
  },
  {
   "cell_type": "markdown",
   "metadata": {
    "slideshow": {
     "slide_type": "subslide"
    }
   },
   "source": [
    "<img align=\"center\" src=\"images/hypergraph3.png\">"
   ]
  },
  {
   "cell_type": "markdown",
   "metadata": {
    "slideshow": {
     "slide_type": "subslide"
    }
   },
   "source": [
    "<img align=\"center\" src=\"images/hypergraph2.png\">"
   ]
  },
  {
   "cell_type": "markdown",
   "metadata": {
    "slideshow": {
     "slide_type": "notes"
    }
   },
   "source": [
    "The data model comes with its own syntax called TAGML. As said, a syntax is the serialisation of a data model. Because a hypergraph for text can contain a wide variety of different information, we need to be able to express that in TAGML as well. \n"
   ]
  },
  {
   "cell_type": "markdown",
   "metadata": {
    "slideshow": {
     "slide_type": "subslide"
    }
   },
   "source": [
    "#### Syntax: TAGML\n",
    "\n",
    "- The compactness of XML (and often compacter); \n",
    "- Independent of user environment (Operating System; editing environment); \n",
    "- Able to express complex textual features (like overlap or non-linearity) as well as markup semantics;\n"
   ]
  },
  {
   "cell_type": "markdown",
   "metadata": {
    "slideshow": {
     "slide_type": "slide"
    }
   },
   "source": [
    "### Partially ordered data in TAGML"
   ]
  },
  {
   "cell_type": "markdown",
   "metadata": {
    "slideshow": {
     "slide_type": "notes"
    }
   },
   "source": [
    "TAGML provides two main mechanisms for dealing with in-text revisions: \n",
    "\n",
    "1. an \"add\"/\"del\" notation (ordered data) \n",
    "2. branches (partially ordered data)\n",
    "\n",
    "The choice for one or the other is an editorial choice, which should reflect the scientific criteria of the edition project."
   ]
  },
  {
   "cell_type": "markdown",
   "metadata": {
    "slideshow": {
     "slide_type": "slide"
    }
   },
   "source": [
    "### Linear "
   ]
  },
  {
   "cell_type": "markdown",
   "metadata": {
    "slideshow": {
     "slide_type": "notes"
    }
   },
   "source": [
    "The linear notation is pretty straighforward and resembles TEI/XML:"
   ]
  },
  {
   "cell_type": "markdown",
   "metadata": {
    "slideshow": {
     "slide_type": "subslide"
    }
   },
   "source": [
    "<img align=\"center\" src=\"images/tagml-branch.png\">"
   ]
  },
  {
   "cell_type": "markdown",
   "metadata": {
    "slideshow": {
     "slide_type": "subslide"
    }
   },
   "source": [
    "<img align=\"center\" src=\"images/linear-order1.png\">"
   ]
  },
  {
   "cell_type": "markdown",
   "metadata": {
    "slideshow": {
     "slide_type": "notes"
    }
   },
   "source": [
    "In case of a solitary del without a corresponding add, mark the markup as optional to indicate there are two paths: one with the text marked up by del, and one without:"
   ]
  },
  {
   "cell_type": "markdown",
   "metadata": {
    "slideshow": {
     "slide_type": "subslide"
    }
   },
   "source": [
    "<img align=\"center\" src=\"images/tagml-optional-branch.png\">"
   ]
  },
  {
   "cell_type": "markdown",
   "metadata": {
    "slideshow": {
     "slide_type": "subslide"
    }
   },
   "source": [
    "<img align=\"center\" src=\"images/one-branch.png\">"
   ]
  },
  {
   "cell_type": "markdown",
   "metadata": {
    "slideshow": {
     "slide_type": "subslide"
    }
   },
   "source": [
    "### Branches\n",
    "\n",
    "split `<|` and rejoin `|>`\n",
    "\n",
    "A branch is a momentary suspension of the linear order."
   ]
  },
  {
   "cell_type": "markdown",
   "metadata": {
    "slideshow": {
     "slide_type": "notes"
    }
   },
   "source": [
    "Partially ordered data is expressed with branching and optional branching. The branches indicate that a variation is occurring and that the text might follow different simultaneous paths through the text. The branch indicates a momentary suspension of the linear order. Within a branch, the text is ordered again."
   ]
  },
  {
   "cell_type": "markdown",
   "metadata": {
    "slideshow": {
     "slide_type": "fragment"
    }
   },
   "source": [
    "` flow of text` `<|` `branch 1` `|` `branch2` `|>` `flow of text`"
   ]
  },
  {
   "cell_type": "markdown",
   "metadata": {
    "slideshow": {
     "slide_type": "fragment"
    }
   },
   "source": [
    "` flow of text` `<|` `branch 1` `|` `branch2` `|` `branch3` `|>` `flow of text`"
   ]
  },
  {
   "cell_type": "markdown",
   "metadata": {
    "slideshow": {
     "slide_type": "fragment"
    }
   },
   "source": [
    "<img align=\"center\" src=\"images/tagml-branch1.png\">"
   ]
  },
  {
   "cell_type": "markdown",
   "metadata": {
    "slideshow": {
     "slide_type": "notes"
    }
   },
   "source": [
    "Note that although in the linearization, there seems to be an order in the revision, but in fact the words \"en saillie\" and \"noyées\" are on the same location in the graph.  "
   ]
  },
  {
   "cell_type": "markdown",
   "metadata": {
    "slideshow": {
     "slide_type": "subslide"
    }
   },
   "source": [
    "<img align=\"center\" src=\"images/branch2.png\">"
   ]
  },
  {
   "cell_type": "markdown",
   "metadata": {},
   "source": [
    "This is particularly relevant for ediorial interventions like sic/corr or orig/reg in which, as said, order is indeed irrelevant: "
   ]
  },
  {
   "cell_type": "markdown",
   "metadata": {
    "slideshow": {
     "slide_type": "subslide"
    }
   },
   "source": [
    "<img align=\"center\" src=\"images/tagml-branch3.png\">"
   ]
  },
  {
   "cell_type": "markdown",
   "metadata": {
    "slideshow": {
     "slide_type": "subslide"
    }
   },
   "source": [
    "<img align=\"center\" src=\"images/sic-corr-branch.png\">"
   ]
  },
  {
   "cell_type": "markdown",
   "metadata": {
    "slideshow": {
     "slide_type": "notes"
    }
   },
   "source": [
    "The significance of the order of textual data is made explicit within the model, not at the application level. This will also facilitate the parsing, processing and exchange of transcription files."
   ]
  },
  {
   "cell_type": "markdown",
   "metadata": {
    "slideshow": {
     "slide_type": "slide"
    }
   },
   "source": [
    "# Conclusion"
   ]
  },
  {
   "cell_type": "markdown",
   "metadata": {
    "slideshow": {
     "slide_type": "notes"
    }
   },
   "source": [
    "So, in conclusion:"
   ]
  },
  {
   "cell_type": "markdown",
   "metadata": {
    "slideshow": {
     "slide_type": "notes"
    }
   },
   "source": [
    "By starting off with a high level perspective on what information we want to express, we can come to a better understanding of what the best encoding model may be. In other words, we start with the textual contingencies and  worki towards a datamodel for expressing information about complex literary texts in an idiomatic way, without having to resort to workarounds or hacks."
   ]
  },
  {
   "cell_type": "markdown",
   "metadata": {
    "slideshow": {
     "slide_type": "subslide"
    }
   },
   "source": [
    "- The TAG data model is based upon a detailed understanding of text as non-linear, partially ordered data\n",
    "\n",
    "- TAGML allows editors to be really precise in expressing their interpretation of textual contingincies\n",
    "\n",
    "- In-text revision is understood as partially ordered data:\n",
    "    - distinction between linear text and non-linear text\n",
    "    - order of textual data is informational\n",
    "\n",
    "- In-text revision can be reflected in the markup  (a linear order) or by using branches (partially linear order)"
   ]
  },
  {
   "cell_type": "markdown",
   "metadata": {
    "slideshow": {
     "slide_type": "notes"
    }
   },
   "source": [
    "The TAG data model brings us significantly closer to that holy grail of computer science: expressing the natural world algorithmically so that that simplistic computer can understand and be an even better instrument for scholarly research. A while ago, Wendell Piez said of his LMNL data model that"
   ]
  },
  {
   "cell_type": "markdown",
   "metadata": {
    "slideshow": {
     "slide_type": "slide"
    }
   },
   "source": [
    "_\"The primary goal of text encoding in the humanities should not be to conform to standards ... Rather, we encode texts and represent them digitally in order to present, examine, study, and reflect on the rich heritage of knowledge and expression presented to us in our cultural legacy\"_\n",
    "\n",
    "Wendell Piez, 2014\n"
   ]
  },
  {
   "cell_type": "markdown",
   "metadata": {},
   "source": [
    "### Credits\n",
    "\n",
    "Research & Development team involved in TAG: Elli Bleeker, Bram Buitendijk, Ronald Haentjens Dekker, Astrid Kulsdom.\n",
    "\n",
    "See [TAG](https://github.com/HuygensING/TAG) on Github.\n",
    "\n",
    "### Images\n",
    "- Woolf, Virginia. _Time Passes_. The genetic edition of the manuscripts is edited by Peter Shillingsburg and available on www.woolfonline.com (last accessed on June 5, 2019). Excerpts from Woolf’s manuscripts are reused in this contribution with special acknowledgments to the Society of Authors as the Literary Representative of the Estate of Virginia Woolf.\n",
    "- Shelley, M. W. \"Frankenstein, MS. Abinger C. 58\", in _The Shelley-Godwin Archive_, MS. Abinger c. 58, 22r. The Shelley Godwin Archive project is directed by Elizabeth C. Denlinger and Neil Fraistat; general editors Neil Fraistat, Elizabeth Denlinger, and Raffaele Viglianti. http://www.shelleygodwinarchive.org/.\n",
    "- Roud, Gustave. _Requiem_. The typescript page is conserved in the literary archives of the University of Lausanne (Lausanne, Centre de recherches sur les lettres romandes, GR MS 1H/16d, f. 1r); a digital facsimile is available at <https://github.com/bleekere/proto-alex/blob/master/roud/facs/CRLR_GR_MS1H16d_1r_1.png>"
   ]
  },
  {
   "cell_type": "markdown",
   "metadata": {
    "slideshow": {
     "slide_type": "subslide"
    }
   },
   "source": [
    "## References and further reading\n",
    "\n",
    "- Bleeker, Elli, Bram Buitendijk, Ronald Haentjens Dekker, and Astrid Kulsdom. \"Including XML markup in the automated collation of literary texts.\" Presented at XML Prague 2018, Prague, Czech Republic, February 8–10, 2018. In _XML Prague 2018 - Conference Proceedings, pp. 77–95_. http://archive.xmlprague.cz/2018/files/xmlprague-2018-proceedings.pdf  \n",
    "- Haentjens Dekker, Ronald and David J. Birnbaum. 2017. \"It's more than just overlap: Text As Graph.\" Presented at Balisage: The Markup Conference 2017, Washington, DC, August 1 - 4, 2017. In _Proceedings of Balisage: The Markup Conference 2017. Balisage Series on Markup Technologies, vol. 19_. DOI: https://doi.org/10.4242/BalisageVol19.Dekker01.  \n",
    "- Haentjens Dekker, Ronald, Elli Bleeker, Bram Buitendijk, Astrid Kulsdom and David J. Birnbaum. \"TAGML: A markup language of many dimensions.\" Presented at Balisage: The Markup Conference 2018, Washington, DC, July 31 - August 3, 2018. In _Proceedings of Balisage: The Markup Conference 2018. Balisage Series on Markup Technologies, vol. 21_. DOI: https://doi.org/10.4242/BalisageVol21.HaentjensDekker01\n",
    "- Kent, William. 1978. _Data and Reality: Basic Assumptions in Data Processing Reconsidered_. North-Holland Publishing Company.  \n",
    "- Piez, Wendell. 2014. \"TEI in LMNL: Implications for Modeling\". In _Journal of the Text Encoding Initiative_, vol.8. \n",
    "- Vitali, Fabio. 2016. \"The Expressive Power of Digital Formats\". Presented at DiXiT Convention II: \"Academia, Cultural Heritage, Society\", Köln, March 14-16, 2016. Available at http://dixit.uni-koeln.de/wp-content/uploads/Vitali_Digital-formats.pdf  \n",
    "- Davidson, Justin. 2006. ‘Measure for Measure: Exploring the Mysteries of Conducting.’ The New Yorker, pp. 60-69 (citation of Teresa Marrin Nakra)"
   ]
  },
  {
   "cell_type": "markdown",
   "metadata": {
    "slideshow": {
     "slide_type": "notes"
    }
   },
   "source": [
    "If the discussion of linear and non-linear text, ordered and partially ordered data was confusing, it helps to see it as a simple translation: we translate our understanding of a phenomena to a format the computer can understand. We understand revisions as non-linear text, and we translate it to partially ordered data.\n",
    "\n",
    "There is, in fact, a genetic approach to translation. Dirk once said about translating textual genetic concepts:"
   ]
  },
  {
   "cell_type": "markdown",
   "metadata": {
    "slideshow": {
     "slide_type": "slide"
    }
   },
   "source": [
    "<div align=\"center\">\"Instead of smoothing out the textual contingencies of the complex genesis, the translation calls attention to them, enhancing the readers’ textual awareness.\"\n",
    "<br/>\n",
    "<br/>\n",
    "(Dirk van Hulle, 2015)</div>"
   ]
  },
  {
   "cell_type": "markdown",
   "metadata": {
    "slideshow": {
     "slide_type": "slide"
    }
   },
   "source": [
    "### Other manifestations of non-linear text"
   ]
  },
  {
   "cell_type": "markdown",
   "metadata": {
    "slideshow": {
     "slide_type": "fragment"
    }
   },
   "source": [
    "#### Instant corrections"
   ]
  },
  {
   "cell_type": "markdown",
   "metadata": {
    "slideshow": {
     "slide_type": "fragment"
    }
   },
   "source": [
    "#### Open variants"
   ]
  },
  {
   "cell_type": "markdown",
   "metadata": {
    "slideshow": {
     "slide_type": "subslide"
    }
   },
   "source": [
    "#### Transpositions"
   ]
  },
  {
   "cell_type": "markdown",
   "metadata": {
    "slideshow": {
     "slide_type": "subslide"
    }
   },
   "source": [
    "## Properties of TAGML"
   ]
  },
  {
   "cell_type": "markdown",
   "metadata": {
    "slideshow": {
     "slide_type": "fragment"
    }
   },
   "source": [
    "- asymmetrical tags: `[markup> some text <markup]`  \n"
   ]
  },
  {
   "cell_type": "markdown",
   "metadata": {
    "slideshow": {
     "slide_type": "fragment"
    }
   },
   "source": [
    "- strings, markup _and_ other data types (numbers or boolean values) `[date year=1912>`  \n"
   ]
  },
  {
   "cell_type": "markdown",
   "metadata": {
    "slideshow": {
     "slide_type": "fragment"
    }
   },
   "source": [
    "- annotation can be nested `[location ={position={x=1 y=2} countrycode='nl'}> Amsterdam <location]`"
   ]
  },
  {
   "cell_type": "markdown",
   "metadata": {
    "slideshow": {
     "slide_type": "notes"
    }
   },
   "source": [
    "With TAGML, we have a powerful markup language to express different forms of non-linear text as partially ordered data and store it as such in the underlying model."
   ]
  },
  {
   "cell_type": "markdown",
   "metadata": {
    "slideshow": {
     "slide_type": "slide"
    }
   },
   "source": [
    "### In-text revisions and collation"
   ]
  },
  {
   "cell_type": "markdown",
   "metadata": {
    "slideshow": {
     "slide_type": "notes"
    }
   },
   "source": [
    "The distinction between intra-documentary and inter-documentary variation (this is also pointed out by the WG-GE as well as by HWG): both constitute non-linear text, but it is not the same. Perhaps this can best be explained by distinguishing between text and document (after all, the document plays a crucial role in distinguishing between in-text variation and document-to-document variation) and then illustrated with a visualisation of a collation hypergraph in which the various path through the text are shown. The labels on the edges will indicate whether a path is found on one document or constituted by the comparison between documents. The distinction, then, is the editors; the hypergraph contains all the information about the variance. (From the WG-GE: \"If two witnesses are collated, we may observe that a word present in one is missing from the other: does it necessarily follow that this is an addition or a deletion, which we would not hesitate to mark with an add or del tag if we are transcribing a single manuscript?\")\n"
   ]
  },
  {
   "cell_type": "markdown",
   "metadata": {
    "slideshow": {
     "slide_type": "slide"
    }
   },
   "source": [
    "### Hypergraphs"
   ]
  },
  {
   "cell_type": "markdown",
   "metadata": {
    "slideshow": {
     "slide_type": "subslide"
    }
   },
   "source": [
    "<img align=\"center\" width=\"300\" height=\"300\" src=\"images/hypergraph-general.png\">"
   ]
  }
 ],
 "metadata": {
  "celltoolbar": "Slideshow",
  "kernelspec": {
   "display_name": "Python 3",
   "language": "python",
   "name": "python3"
  },
  "language_info": {
   "codemirror_mode": {
    "name": "ipython",
    "version": 3
   },
   "file_extension": ".py",
   "mimetype": "text/x-python",
   "name": "python",
   "nbconvert_exporter": "python",
   "pygments_lexer": "ipython3",
   "version": "3.6.5"
  }
 },
 "nbformat": 4,
 "nbformat_minor": 2
}
