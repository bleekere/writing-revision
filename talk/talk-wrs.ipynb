{
 "cells": [
  {
   "cell_type": "markdown",
   "metadata": {
    "slideshow": {
     "slide_type": "slide"
    }
   },
   "source": [
    "_\"The Holy Grail of computer science is to capture the messy complexity of the natural world and express it algorithmically\"_\n",
    "(Teresa Marrin Nakra, 2006)"
   ]
  },
  {
   "cell_type": "markdown",
   "metadata": {
    "slideshow": {
     "slide_type": "subslide"
    }
   },
   "source": [
    "How can we capture the messy complexity of literary texts? In what ways can we express our textual knowledge algorithmically?"
   ]
  },
  {
   "cell_type": "markdown",
   "metadata": {
    "slideshow": {
     "slide_type": "notes"
    }
   },
   "source": [
    "Framework: data models and their influence on our text encoding\n",
    "\n",
    "Goals:\n",
    "\n",
    "1. Make clear why the existing approaches are limited; why we should not settle for workarounds\n",
    "2. Emphasise the strengths and values of existing approaches (the flexibility XML offers its users; the vast amount of tools based on TEI/XML; the large and active user comminity). We do not deny nor ignore these values\n",
    "3. Evaluate the implications of using TAG to model non-linear text: does TAG perform better? Does the TAG model actually comes close to how human readers understand in-text variation?\n",
    "4. What the audience needs to take away:\n",
    "    - A broader understanding of the affordances of data models and how they may serve us best\n",
    "    - The additional value of looking at textual objects from an informational perspective, so as to find the best algorithmic translation\n",
    "    - How thinking about the best translation also compels you to think about how _you_ understand that specific phenomenon; e.g. is is actually correct to say in-text variation constitutes non-linear text; is non-ln\n",
    "    - The strenghts of TAG for modeling complex textual features\n",
    "    - The challenges of launching a new data model without completely disgarding the existing ones (I am quite aware we are not the first ones to have come up with \"the best\" way to, well, everything)"
   ]
  },
  {
   "cell_type": "markdown",
   "metadata": {
    "slideshow": {
     "slide_type": "slide"
    }
   },
   "source": [
    "# Data models for text encoding"
   ]
  },
  {
   "cell_type": "markdown",
   "metadata": {
    "slideshow": {
     "slide_type": "notes"
    }
   },
   "source": [
    "The datamodel we use influence our text encoding and defines what textual features we can record. The ways in which we algorithmically express information about text also define how that information can be parsed, queried, and visualised. In short: understanding the strengths and limitations of a data model is vital in order to arrive at a correct text encoding.\n",
    "\n",
    "The strengths of XML, the preferred encoding format for textual scholars, are well known. In the context of studying modern manuscripts, the most important limitation of XML is the inability to encode non-hierarchical features, or more precisely: features that do not fit neatly into one hierarchy. Familiar examples are the combination of documentary and textual features that is of interest to genetically oriented scholars; less familiar examples of hierarchy-breaking features are discontinuous text or nonlinear text.\n",
    "\n",
    "Instead of proposing ways to circumvent these limitations of XML, this presentation describes a powerful new datamodel for expressing information about complex literary texts in an idiomatic way, without having to resort to workarounds or hacks."
   ]
  },
  {
   "cell_type": "markdown",
   "metadata": {
    "slideshow": {
     "slide_type": "slide"
    }
   },
   "source": [
    "# Outline\n",
    "\n",
    "1. Encoding in-text revision\n",
    "    - examples\n",
    "    - theoretical definition\n",
    "    - informational definition\n",
    "    - existing approaches to modeling non-linear text\n",
    "2. A very brief introduction to the TAG model\n",
    "    - data model\n",
    "    - syntax\n",
    "    - implications\n",
    "3. Modeling in-text variation in TAG\n",
    "4. Evaluation\n",
    "5. Discussion\n"
   ]
  },
  {
   "cell_type": "markdown",
   "metadata": {
    "slideshow": {
     "slide_type": "notes"
    }
   },
   "source": [
    "Framework of this talk is different than most other talks of this symposium: instead of describing a particular use case, I present a new data model for text that is designed to handle a wide variety of textual features. For that reason, I will use different textual fragments as example, but I invite you to consider how our approach will be able to accommodate your cases."
   ]
  },
  {
   "cell_type": "markdown",
   "metadata": {
    "slideshow": {
     "slide_type": "fragment"
    }
   },
   "source": [
    "## Encoding _in-text_ revision"
   ]
  },
  {
   "cell_type": "markdown",
   "metadata": {
    "slideshow": {
     "slide_type": "subslide"
    }
   },
   "source": [
    "### What is in-text revision?\n",
    "In essence, _in-text_ revisions constitute non-linear text."
   ]
  },
  {
   "cell_type": "markdown",
   "metadata": {
    "slideshow": {
     "slide_type": "subslide"
    }
   },
   "source": [
    "### Examples "
   ]
  },
  {
   "cell_type": "markdown",
   "metadata": {
    "slideshow": {
     "slide_type": "fragment"
    }
   },
   "source": [
    "(Cf. the overview of textual alterations in the TEI Working Group's _Encoding Model for Genetic Editions_ 2010, §3.2)"
   ]
  },
  {
   "cell_type": "markdown",
   "metadata": {
    "slideshow": {
     "slide_type": "subslide"
    }
   },
   "source": [
    "#### Deletion"
   ]
  },
  {
   "cell_type": "markdown",
   "metadata": {
    "slideshow": {
     "slide_type": "subslide"
    }
   },
   "source": [
    "#### Addition"
   ]
  },
  {
   "cell_type": "markdown",
   "metadata": {
    "slideshow": {
     "slide_type": "subslide"
    }
   },
   "source": [
    "#### Substitution"
   ]
  },
  {
   "cell_type": "markdown",
   "metadata": {
    "slideshow": {
     "slide_type": "subslide"
    }
   },
   "source": [
    "### Other instantiations of non-linear text"
   ]
  },
  {
   "cell_type": "markdown",
   "metadata": {
    "slideshow": {
     "slide_type": "fragment"
    }
   },
   "source": [
    "#### Instant corrections"
   ]
  },
  {
   "cell_type": "markdown",
   "metadata": {
    "slideshow": {
     "slide_type": "fragment"
    }
   },
   "source": [
    "#### Open variants"
   ]
  },
  {
   "cell_type": "markdown",
   "metadata": {
    "slideshow": {
     "slide_type": "subslide"
    }
   },
   "source": [
    "#### Transpositions"
   ]
  },
  {
   "cell_type": "markdown",
   "metadata": {
    "slideshow": {
     "slide_type": "slide"
    }
   },
   "source": [
    "### How does non-linear text translate informatically?\n",
    "\n",
    "\"All documents are structured, but some documents are more structured than others.\"\n",
    "\n",
    "- unordered information\n",
    "- ordered information\n",
    "- partially ordered information "
   ]
  },
  {
   "cell_type": "markdown",
   "metadata": {
    "slideshow": {
     "slide_type": "subslide"
    }
   },
   "source": [
    "### Non-linear text = partially ordered information"
   ]
  },
  {
   "cell_type": "markdown",
   "metadata": {
    "slideshow": {
     "slide_type": "subslide"
    }
   },
   "source": [
    "### Example"
   ]
  },
  {
   "cell_type": "markdown",
   "metadata": {
    "slideshow": {
     "slide_type": "notes"
    }
   },
   "source": [
    "For example, the use of TEI-XML elements to represent regularization (orig/reg), correction (sic/corr), or abbreviation (abbr/expan) is ordered in the sense that two XML documents that differ in the order of an orig/reg choice are different XML documents, and that difference can be ignored only at the application level."
   ]
  },
  {
   "cell_type": "markdown",
   "metadata": {
    "slideshow": {
     "slide_type": "slide"
    }
   },
   "source": [
    "### Non-linear text in existing data models\n",
    "\n",
    "- **String (e.g. plain text)**  \n",
    "\n",
    "- **Key:value pairs (e.g. JSON)**  \n",
    "\n",
    "- **Tree (e.g. XML)**  \n",
    "\n",
    "- **Graph (e.g. RDF or GODDAG)**  \n",
    "\n",
    "The affordances and limitations of a prevailing technology may blind us to aspects not supported by that technology."
   ]
  },
  {
   "cell_type": "markdown",
   "metadata": {
    "slideshow": {
     "slide_type": "notes"
    }
   },
   "source": [
    "- **String (e.g. plain text)**  \n",
    "One order of tokens; no discontinuity; no overlap\n",
    "\n",
    "- **Key:value pairs (e.g. JSON)**  \n",
    "Unordered (order is not informational), hierarchical data is supported but it's not really usable for long texts\n",
    "\n",
    "- **Tree (e.g. XML)**  \n",
    "Order is informational unless indicated otherwise; discontinuity is not a problem (with linking); no overlap without workarounds like standoff. XML is a linearization of a tree structure.\n",
    "\n",
    "- **Graph (e.g. RDF or GODDAG)**  \n",
    "Graph: there are a lot of different graphs. For most graphs, overlap is not an issue (although it may take some workarounds, see EARMARK re: RDF); GODDAG allows for multiple parenthood and multiple orders of the text tokens (leafs)\n",
    "\n",
    "In the words of Patrick Sahle (2013): the affordances and limitations of a prevailing technology may blind us to aspects not supported by that technology.\n"
   ]
  },
  {
   "cell_type": "markdown",
   "metadata": {
    "slideshow": {
     "slide_type": "slide"
    }
   },
   "source": [
    "## Our approach"
   ]
  },
  {
   "cell_type": "markdown",
   "metadata": {
    "slideshow": {
     "slide_type": "subslide"
    }
   },
   "source": [
    "### TAG\n",
    "\n",
    "**Hypergraph model for text**  "
   ]
  },
  {
   "cell_type": "markdown",
   "metadata": {
    "slideshow": {
     "slide_type": "notes"
    }
   },
   "source": [
    "(several slides explaining the most relevant parts of the hypergraph model for text:)\n",
    "\n",
    "- TAG data model: non-uniform cyclic property hypergraph of text\n",
    "- Markup as sets on other nodes; image of hypergraph. This means that markup can point to multiple text nodes and vice versa\n",
    "- TAG is designed to be able to model (and TAGML is designed to be able to encode) text and markup, including overlapping markup and ordered, partially ordered, and unordered information.\n"
   ]
  },
  {
   "cell_type": "markdown",
   "metadata": {
    "slideshow": {
     "slide_type": "slide"
    }
   },
   "source": [
    "### Implications of the TAG model\n",
    "\n",
    "This design principle means that TAG processing can support any type of query, from Boolean to ranked pattern matches at the level of the model, and that the complex mixture of information can be parsed and processed in an idiomatic manner and without work-arounds.\n",
    "\n",
    "Why is this important?\n",
    "\n",
    "1. Idiomatic modelling\n",
    "2. Separation of responsibilities"
   ]
  },
  {
   "cell_type": "markdown",
   "metadata": {
    "slideshow": {
     "slide_type": "notes"
    }
   },
   "source": [
    "1. When we structure information in a way that is close to how we understand it to be, our means of storing and querying become more powerful. An example: the value of XML attributes is always a string (`<date year=\"1928\"/>`) whereas in TAGML this can be an actual number (`[date year=1928><date]`)\n",
    "\n",
    "2. TAG is designed according to the principle of separating responsibilities. In XML, most responsibilities are transferred to the application layer; in TAG we organise and structure information at the level of the model. Many textual aspects discussed in this paper can be modeled in, for instance, an XML-transcription with an associated schema and application-level rules. TAGML, however, moves much of that responsibility to the syntax by having explict encoding mechanisms for containment, dominance, discontinuity, non-linearity, and overlap, with the goal of removing ambiguity from the application level. Accordingly, TAGML brings together and expands on qualities of existing formats, and creates an inclusive and definite framework for modeling textual and structural information. I will return to why this is important later."
   ]
  },
  {
   "cell_type": "markdown",
   "metadata": {
    "slideshow": {
     "slide_type": "subslide"
    }
   },
   "source": [
    "#### Syntax: TAGML\n",
    "\n",
    "A syntax is the serialisation of a data model.\n",
    "\n",
    "Properties of TAGML:\n",
    "\n",
    "- asymmetrical tags\n",
    "- not just strings and markup, but other data types as well (numbers or boolean values)\n",
    "- annotation can be nested"
   ]
  },
  {
   "cell_type": "markdown",
   "metadata": {
    "slideshow": {
     "slide_type": "slide"
    }
   },
   "source": [
    "# Evaluation"
   ]
  },
  {
   "cell_type": "markdown",
   "metadata": {
    "slideshow": {
     "slide_type": "notes"
    }
   },
   "source": [
    "What are the effects of using TAG to model non-linear text?"
   ]
  },
  {
   "cell_type": "markdown",
   "metadata": {},
   "source": [
    "### Preventing the information overload\n",
    "\n",
    "**Layers**\n",
    "\n",
    "Layers are used to group together Markup nodes."
   ]
  },
  {
   "cell_type": "markdown",
   "metadata": {
    "slideshow": {
     "slide_type": "slide"
    }
   },
   "source": [
    "# Future work"
   ]
  },
  {
   "cell_type": "markdown",
   "metadata": {
    "slideshow": {
     "slide_type": "subslide"
    }
   },
   "source": [
    "## Collation\n",
    "\n",
    "- \"How is collation to approach textual data that cannot be undoubtedly assigned to a specific writing stage?\"\n",
    "- \"It is however an open question as to whether inter-document discrepancies at the dossier level should be regarded in the same way as intra-document alterations. If two witnesses are collated, we may observe that a word present in one is missing from the other: does it necessarily follow that this is an addition or a deletion, which we would not hesitate to mark with an add or del tag if we are transcribing a single manuscript?\" (from the TEI Encoding Model for Genetic Editing)\n"
   ]
  },
  {
   "cell_type": "markdown",
   "metadata": {},
   "source": []
  },
  {
   "cell_type": "markdown",
   "metadata": {
    "slideshow": {
     "slide_type": "subslide"
    }
   },
   "source": [
    "# OUD"
   ]
  },
  {
   "cell_type": "markdown",
   "metadata": {
    "slideshow": {
     "slide_type": "notes"
    }
   },
   "source": [
    "In this talk, I focus on a small but significant aspect of the study of literary manuscripts: **capturing their multidimensional nature**. When we talk about \"multidimensial nature\" in textual studies we usually mean the combined set of characteristics: textual aspects, material aspects and chronological aspects.\n",
    "\n",
    "In standard text encoding models that are based on the single-hierarchy of XML, one of these dimensions has to be given priority. Aspects from other dimensions can be recorded but do not have natural place in the data structure."
   ]
  },
  {
   "cell_type": "markdown",
   "metadata": {
    "slideshow": {
     "slide_type": "slide"
    }
   },
   "source": [
    "# Context"
   ]
  },
  {
   "cell_type": "markdown",
   "metadata": {
    "slideshow": {
     "slide_type": "subslide"
    }
   },
   "source": [
    "_\"The real problems arise when dealing with modern manuscript material\"_ (Vanhoutte 2002; still holds true seventeen years later)"
   ]
  },
  {
   "cell_type": "markdown",
   "metadata": {
    "slideshow": {
     "slide_type": "notes"
    }
   },
   "source": [
    "Alternative encoding models for the encoding of draft manuscripts: Edward Vanhoutte endeavourd to \"put time back into manuscripts\" (2002); Elena Pierazzo also discussed this chronological aspect as she studied how to represent the discontinuous nature of the writing process on working manuscripts (_Text Editing, Print, And the Digital World_; 2016)."
   ]
  },
  {
   "cell_type": "markdown",
   "metadata": {
    "slideshow": {
     "slide_type": "slide"
    }
   },
   "source": [
    "# Problem description"
   ]
  },
  {
   "cell_type": "markdown",
   "metadata": {
    "slideshow": {
     "slide_type": "notes"
    }
   },
   "source": [
    "I don't have to remind you about the aims of textual genetic studies; these have been thoroughly defined by scholars like Almuth Grésillon (1994) or Daniel Ferrer (1995). We have gathered here today to witness the results of the matrimony of textual genetic studies and computer technologies. "
   ]
  },
  {
   "cell_type": "markdown",
   "metadata": {
    "slideshow": {
     "slide_type": "slide"
    }
   },
   "source": [
    "## Nonlinear text"
   ]
  },
  {
   "cell_type": "markdown",
   "metadata": {
    "slideshow": {
     "slide_type": "subslide"
    }
   },
   "source": [
    "### Representing non-linearity in a datamodel"
   ]
  },
  {
   "cell_type": "markdown",
   "metadata": {
    "slideshow": {
     "slide_type": "subslide"
    }
   },
   "source": [
    "### TEI/XML"
   ]
  },
  {
   "cell_type": "markdown",
   "metadata": {},
   "source": [
    "### Alternative encoding methods\n",
    "\n",
    "- LMNL (ranges on plain text)\n",
    "- GODDAG (data model for overlapping hierarchies; serialization TexMECS or XCONCUR)\n",
    "- Standoff markup / standoff properties\n",
    "- RDF for texts (serialization: EARMARK)"
   ]
  },
  {
   "cell_type": "markdown",
   "metadata": {
    "slideshow": {
     "slide_type": "subslide"
    }
   },
   "source": [
    "### TAGML"
   ]
  },
  {
   "cell_type": "markdown",
   "metadata": {
    "slideshow": {
     "slide_type": "notes"
    }
   },
   "source": [
    "Describe why these alternative methods do not meet the requirements of our case."
   ]
  },
  {
   "cell_type": "markdown",
   "metadata": {
    "slideshow": {
     "slide_type": "slide"
    }
   },
   "source": [
    "# Approach"
   ]
  },
  {
   "cell_type": "code",
   "execution_count": null,
   "metadata": {},
   "outputs": [],
   "source": []
  }
 ],
 "metadata": {
  "celltoolbar": "Slideshow",
  "kernelspec": {
   "display_name": "Python 3",
   "language": "python",
   "name": "python3"
  },
  "language_info": {
   "codemirror_mode": {
    "name": "ipython",
    "version": 3
   },
   "file_extension": ".py",
   "mimetype": "text/x-python",
   "name": "python",
   "nbconvert_exporter": "python",
   "pygments_lexer": "ipython3",
   "version": "3.6.5"
  }
 },
 "nbformat": 4,
 "nbformat_minor": 2
}
